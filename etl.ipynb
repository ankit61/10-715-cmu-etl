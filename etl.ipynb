{
 "metadata": {
  "language_info": {
   "codemirror_mode": {
    "name": "ipython",
    "version": 3
   },
   "file_extension": ".py",
   "mimetype": "text/x-python",
   "name": "python",
   "nbconvert_exporter": "python",
   "pygments_lexer": "ipython3",
   "version": "3.8.2-final"
  },
  "orig_nbformat": 2,
  "kernelspec": {
   "name": "python_defaultSpec_1599783679626",
   "display_name": "Python 3.8.2 64-bit"
  }
 },
 "nbformat": 4,
 "nbformat_minor": 2,
 "cells": [
  {
   "cell_type": "code",
   "execution_count": 24,
   "metadata": {},
   "outputs": [],
   "source": [
    "import requests\n",
    "import re\n",
    "import json"
   ]
  },
  {
   "cell_type": "code",
   "execution_count": null,
   "metadata": {},
   "outputs": [],
   "source": [
    "def get_raw_data(state, columns):\n",
    "    base_url = 'https://api.census.gov/data/2018/acs/acs5/profile/'\n",
    "    parameters = {\n",
    "        'for': 'county:*',\n",
    "        'in': f'state:{state}',\n",
    "        'get': ','.join(['NAME'] + columns)\n",
    "    }\n",
    "    return requests.get(base_url, params=parameters)"
   ]
  },
  {
   "cell_type": "code",
   "execution_count": 53,
   "metadata": {},
   "outputs": [],
   "source": [
    "def clean_data(data):\n",
    "    return json.loads(data)"
   ]
  },
  {
   "cell_type": "code",
   "execution_count": 54,
   "metadata": {},
   "outputs": [],
   "source": [
    "r = get_raw_data(\n",
    "        state='39',\n",
    "        columns=[f'DP03_00{i}PE' for i in range(52, 62)]\n",
    "    )\n",
    "\n",
    "data = clean_data(r.text)"
   ]
  },
  {
   "cell_type": "code",
   "execution_count": 60,
   "metadata": {},
   "outputs": [],
   "source": [
    "import json\n",
    "l = json.loads(r.text)"
   ]
  }
 ]
}